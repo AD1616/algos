{
 "cells": [
  {
   "attachments": {},
   "cell_type": "markdown",
   "metadata": {},
   "source": [
    "Given an array of integers nums and an integer target, return indices of the two numbers such that they add up to target.\n",
    "\n",
    "You may assume that each input would have exactly one solution, and you may not use the same element twice.\n",
    "\n",
    "You can return the answer in any order."
   ]
  },
  {
   "attachments": {},
   "cell_type": "markdown",
   "metadata": {},
   "source": [
    "### O(N^2) Solution"
   ]
  },
  {
   "cell_type": "code",
   "execution_count": 2,
   "metadata": {},
   "outputs": [],
   "source": [
    "def twoSumInefficient(nums, target):\n",
    "    for i in range(len(nums)):\n",
    "        for j in range(i+1, len(nums)):\n",
    "            if (nums[i] + nums[j] == target):\n",
    "                return [i, j]"
   ]
  },
  {
   "attachments": {},
   "cell_type": "markdown",
   "metadata": {},
   "source": [
    "### O(N) Solution"
   ]
  },
  {
   "cell_type": "code",
   "execution_count": 4,
   "metadata": {},
   "outputs": [],
   "source": [
    "def twoSumEfficient(nums, target):\n",
    "    # dictionary to store previous numbers\n",
    "    # key is the numbers and value is the index of the numbers\n",
    "    d = {}\n",
    "    for i, j in enumerate(nums):\n",
    "        # for the current number, find the number that would add up to the target\n",
    "        r = target - j\n",
    "        if r in d:\n",
    "            # if that number is in the dictionary, \n",
    "            # it means that we have already passed it.\n",
    "            # return the index of the current number and the number that would add up to the target\n",
    "            return [d[r], i]\n",
    "        # if not, we add the current number to the dictionary\n",
    "        # note that the key is the number and the value is the index\n",
    "        # this way, we can check if the number is in the dictionary, and then return the value as the index\n",
    "        d[j] = i"
   ]
  },
  {
   "cell_type": "code",
   "execution_count": null,
   "metadata": {},
   "outputs": [],
   "source": []
  }
 ],
 "metadata": {
  "kernelspec": {
   "display_name": "Python 3",
   "language": "python",
   "name": "python3"
  },
  "language_info": {
   "codemirror_mode": {
    "name": "ipython",
    "version": 3
   },
   "file_extension": ".py",
   "mimetype": "text/x-python",
   "name": "python",
   "nbconvert_exporter": "python",
   "pygments_lexer": "ipython3",
   "version": "3.10.5"
  },
  "orig_nbformat": 4
 },
 "nbformat": 4,
 "nbformat_minor": 2
}
