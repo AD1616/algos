{
 "cells": [
  {
   "attachments": {},
   "cell_type": "markdown",
   "metadata": {},
   "source": [
    "Given an integer array nums, return an array answer such that answer[i] is equal to the product of all the elements of nums except nums[i].\n",
    "\n",
    "The product of any prefix or suffix of nums is guaranteed to fit in a 32-bit integer.\n",
    "\n",
    "You must write an algorithm that runs in O(n) time and without using the division operation."
   ]
  },
  {
   "cell_type": "code",
   "execution_count": 1,
   "metadata": {},
   "outputs": [],
   "source": [
    "def productExceptSelf(nums):\n",
    "    # keeping track of product with zero in array and without zero\n",
    "    prod = 1\n",
    "    prodNonZero = 1\n",
    "\n",
    "    zeroCounter = 0\n",
    "    arr = []\n",
    "    for i in range(len(nums)):\n",
    "        # if zero is encountered,\n",
    "        # we only update one product counter and\n",
    "        # increment zero counter\n",
    "        if (nums[i] == 0):\n",
    "            zeroCounter += 1\n",
    "            prod *= nums[i]\n",
    "        else:\n",
    "            prodNonZero *= nums[i]\n",
    "            prod *= nums[i]\n",
    "\n",
    "    for i in range(len(nums)):\n",
    "        if (nums[i] == 0):\n",
    "            # if there was multiple zeros in the array, then\n",
    "            # even if we take the zero out, the product will still be zero\n",
    "            if (zeroCounter > 1):\n",
    "                arr.append(0)\n",
    "            # otherwise, product can be nonzero\n",
    "            else:\n",
    "                arr.append((int) (prodNonZero))\n",
    "        # without zero, we can just divide total product by number at that index\n",
    "        else:\n",
    "            arr.append((int) (prod / nums[i]))\n",
    "\n",
    "    return arr"
   ]
  },
  {
   "cell_type": "code",
   "execution_count": null,
   "metadata": {},
   "outputs": [],
   "source": []
  }
 ],
 "metadata": {
  "kernelspec": {
   "display_name": "Python 3",
   "language": "python",
   "name": "python3"
  },
  "language_info": {
   "codemirror_mode": {
    "name": "ipython",
    "version": 3
   },
   "file_extension": ".py",
   "mimetype": "text/x-python",
   "name": "python",
   "nbconvert_exporter": "python",
   "pygments_lexer": "ipython3",
   "version": "3.10.5"
  },
  "orig_nbformat": 4
 },
 "nbformat": 4,
 "nbformat_minor": 2
}
