{
 "cells": [
  {
   "attachments": {},
   "cell_type": "markdown",
   "metadata": {},
   "source": [
    "Given a sorted array of distinct integers and a target value, return the index if the target is found. If not, return the index where it would be if it were inserted in order.\n",
    "\n",
    "You must write an algorithm with O(log n) runtime complexity."
   ]
  },
  {
   "cell_type": "code",
   "execution_count": 1,
   "metadata": {},
   "outputs": [],
   "source": [
    "def searchInsert(nums, target):\n",
    "    while (left <= right):\n",
    "        mid = (left + right) // 2\n",
    "\n",
    "        if (nums[mid] == target):\n",
    "            return mid\n",
    "        elif (nums[mid] > target):\n",
    "            right = mid - 1\n",
    "        elif (nums[mid] < target):\n",
    "            left = mid + 1\n",
    "            \n",
    "    if (target > nums[right]):\n",
    "        return right + 1\n",
    "    elif (target < nums[left]):\n",
    "        return 0"
   ]
  },
  {
   "attachments": {},
   "cell_type": "markdown",
   "metadata": {},
   "source": [
    "This is basically binary search, but there's an additional step: if the number isn't in the list, we need to find the position it should be inserted to still be in order. Because we stop when left <= right, we know that the target is closest to nums[left] and nums[right]. If it's bigger than nums[right], it should go right after. If it's smaller than nums[left], then we are at the start of the list so it should just return 0."
   ]
  },
  {
   "cell_type": "markdown",
   "metadata": {},
   "source": []
  }
 ],
 "metadata": {
  "kernelspec": {
   "display_name": "Python 3",
   "language": "python",
   "name": "python3"
  },
  "language_info": {
   "codemirror_mode": {
    "name": "ipython",
    "version": 3
   },
   "file_extension": ".py",
   "mimetype": "text/x-python",
   "name": "python",
   "nbconvert_exporter": "python",
   "pygments_lexer": "ipython3",
   "version": "3.10.5"
  },
  "orig_nbformat": 4,
  "vscode": {
   "interpreter": {
    "hash": "aee8b7b246df8f9039afb4144a1f6fd8d2ca17a180786b69acc140d282b71a49"
   }
  }
 },
 "nbformat": 4,
 "nbformat_minor": 2
}
