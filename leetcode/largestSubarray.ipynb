{
 "cells": [
  {
   "attachments": {},
   "cell_type": "markdown",
   "metadata": {},
   "source": [
    "Given an integer array nums, find the subarray with the largest sum, and return its sum."
   ]
  },
  {
   "cell_type": "code",
   "execution_count": 1,
   "metadata": {},
   "outputs": [],
   "source": [
    "def maxSubArray(nums):\n",
    "    n = len(nums)\n",
    "    maximumSum = float('-inf')\n",
    "    currSumSubarray = 0\n",
    "    for i in range(n):\n",
    "        currSumSubarray += nums[i]\n",
    "        # if current sum is greater than maximum sum, update maximum sum\n",
    "        # note that if current sum is negative, we don't update maximum sum\n",
    "        maximumSum = max(maximumSum, currSumSubarray)\n",
    "        # if current sum was negative, that means it will not contribute to the maximum sum\n",
    "        currSumSubarray = max(currSumSubarray, 0)\n",
    "    return maximumSum"
   ]
  },
  {
   "attachments": {},
   "cell_type": "markdown",
   "metadata": {},
   "source": [
    "[-2, 1, -3, 4, -1 ,2 ,1 ,-5 ,4]\n",
    "\n",
    "For the above array:\n",
    "\n",
    "* cSS = -2, mS = -2, cSS = 0\n",
    "* cSS = 1, mS = 1, cSS = 1\n",
    "* cSS = -2, mS = 1, cSS = 0\n",
    "* cSS = 0, mS = 4, cSS = 4\n",
    "* cSS = 3, mS = 4, cSS = 3\n",
    "* cSS = 5, mS = 5, cSS = 5\n",
    "* cSS = 6, mS = 6, cSS = 6\n",
    "* cSS = 1, mS = 6, cSS = 1\n",
    "* cSS = 5, mS = 6, cSS = 5\n",
    "\n",
    "return mS = 6"
   ]
  },
  {
   "attachments": {},
   "cell_type": "markdown",
   "metadata": {},
   "source": [
    "[-2, -4, -1, -6]\n",
    "\n",
    "For the above array:\n",
    "\n",
    "* cSS = -2, mS = -2, cSS = 0\n",
    "* cSS = -4, mS = -2, cSS = 0\n",
    "* cSS = -1, mS = -1, cSS = 0\n",
    "* cSS = -6, mS = -1, cSS = 0\n",
    "\n",
    "return mS = -1\n"
   ]
  },
  {
   "cell_type": "markdown",
   "metadata": {},
   "source": []
  }
 ],
 "metadata": {
  "kernelspec": {
   "display_name": "Python 3",
   "language": "python",
   "name": "python3"
  },
  "language_info": {
   "codemirror_mode": {
    "name": "ipython",
    "version": 3
   },
   "file_extension": ".py",
   "mimetype": "text/x-python",
   "name": "python",
   "nbconvert_exporter": "python",
   "pygments_lexer": "ipython3",
   "version": "3.10.5"
  },
  "orig_nbformat": 4
 },
 "nbformat": 4,
 "nbformat_minor": 2
}
