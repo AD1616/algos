{
 "cells": [
  {
   "attachments": {},
   "cell_type": "markdown",
   "metadata": {},
   "source": [
    "# Binary Search"
   ]
  },
  {
   "attachments": {},
   "cell_type": "markdown",
   "metadata": {},
   "source": [
    "The following algorithm takes an input of an array of sorted numbers and a target number. If the target is in the array, then the index at which it is found is returned. If the target is not in the array, -1 is returned."
   ]
  },
  {
   "cell_type": "code",
   "execution_count": 4,
   "metadata": {},
   "outputs": [
    {
     "name": "stdout",
     "output_type": "stream",
     "text": [
      "2\n",
      "-1\n",
      "6\n"
     ]
    }
   ],
   "source": [
    "def binarySearch(nums, target):\n",
    "    # Initial lower bound to search is just the first term\n",
    "    left = 0\n",
    "    # Initial upper bound to search is just the last term\n",
    "    right = len(nums) - 1\n",
    "\n",
    "    # We want to continue the loop until we have searched every single term.\n",
    "    # If our lower bound becomes greater than our upper bound, then we know we've gone through all terms.\n",
    "    while (left <= right):\n",
    "        # This is the middle value we check.\n",
    "        # Note that if there is an even number of terms, mid will be the lower index of the 2 middle terms.\n",
    "        mid = (left + right) // 2\n",
    "\n",
    "        # If the middle value is the target, then we can return the index.\n",
    "        if (nums[mid] == target):\n",
    "            return mid\n",
    "        # If the middle value is bigger than the target, then we know that the target is contained in the lower half.\n",
    "        elif (nums[mid] > target):\n",
    "            # We set the upper bound to be less than that middle index.\n",
    "            # This way we only check the lower half in the next iteration.\n",
    "            right = mid - 1\n",
    "        # If the middle value is smaller than the target, then we know that the target is contained in the upper half.\n",
    "        elif (nums[mid] < target):\n",
    "            # We set the lower bound to be greater than the middle index.\n",
    "            # This way we only check the upper half in the next iteration.\n",
    "            left = mid + 1\n",
    "    # If we traversed the list without finding the target, simply return -1.\n",
    "    return -1\n",
    "\n",
    "def tester():\n",
    "    arr1 = [1, 2, 3, 4, 5, 6]\n",
    "    arr2 = [2, 4, 6, 8, 10]\n",
    "    arr3 = [2, 3, 5, 6, 9, 11, 13]\n",
    "\n",
    "    result1 = binarySearch(arr1, 3)\n",
    "    result2 = binarySearch(arr2, 12)\n",
    "    result3 = binarySearch(arr3, 13)\n",
    "\n",
    "    print(result1)\n",
    "    print(result2)\n",
    "    print(result3)\n",
    "\n",
    "tester()\n"
   ]
  },
  {
   "attachments": {},
   "cell_type": "markdown",
   "metadata": {},
   "source": [
    "# Time and Space Complexity\n",
    "\n",
    "This algorithm runs in O(log n) time complexity. This is because the worst case scenario is to divide n in half until n is 1. This means that the base 2 logarithm of n is how many times the loop would have to run, and the operations inside the loop all take constant time.\n",
    "\n",
    "The space complexity is O(1), since all we store at a given time is the left, mid, and right index values along with the original nums array and target."
   ]
  },
  {
   "cell_type": "markdown",
   "metadata": {},
   "source": []
  }
 ],
 "metadata": {
  "kernelspec": {
   "display_name": "Python 3",
   "language": "python",
   "name": "python3"
  },
  "language_info": {
   "codemirror_mode": {
    "name": "ipython",
    "version": 3
   },
   "file_extension": ".py",
   "mimetype": "text/x-python",
   "name": "python",
   "nbconvert_exporter": "python",
   "pygments_lexer": "ipython3",
   "version": "3.10.5 (v3.10.5:f377153967, Jun  6 2022, 12:36:10) [Clang 13.0.0 (clang-1300.0.29.30)]"
  },
  "orig_nbformat": 4,
  "vscode": {
   "interpreter": {
    "hash": "aee8b7b246df8f9039afb4144a1f6fd8d2ca17a180786b69acc140d282b71a49"
   }
  }
 },
 "nbformat": 4,
 "nbformat_minor": 2
}
