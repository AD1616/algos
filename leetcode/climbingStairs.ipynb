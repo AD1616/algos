{
 "cells": [
  {
   "attachments": {},
   "cell_type": "markdown",
   "metadata": {},
   "source": [
    "You are climbing a staircase. It takes n steps to reach the top.\n",
    "\n",
    "Each time you can either climb 1 or 2 steps. In how many distinct ways can you climb to the top?"
   ]
  },
  {
   "cell_type": "code",
   "execution_count": null,
   "metadata": {},
   "outputs": [],
   "source": [
    "# this is a memoized solution\n",
    "def climbStairs(n):\n",
    "    def solve(n, result, memo):\n",
    "        if (memo[n] is not None):\n",
    "            return memo[n]\n",
    "        # two cases; 1 step remaining means 1 way and 2 means 2 ways\n",
    "        elif (n == 1):\n",
    "            result += 1\n",
    "        elif (n == 2):\n",
    "            result += 2\n",
    "        # if there are 3 or more steps, \n",
    "        # we calculate # of ways for n-1 and n-2 and add\n",
    "        else:\n",
    "            result += (solve(n-2, result, memo) + solve(n-1, result, memo))\n",
    "        # store result for n in memo\n",
    "        memo[n] = result\n",
    "        return result\n",
    "    \n",
    "    memo = [None] * (n+1)\n",
    "    return solve(n, 0, memo)"
   ]
  }
 ],
 "metadata": {
  "kernelspec": {
   "display_name": "Python 3",
   "language": "python",
   "name": "python3"
  },
  "language_info": {
   "name": "python",
   "version": "3.10.5"
  },
  "orig_nbformat": 4
 },
 "nbformat": 4,
 "nbformat_minor": 2
}
