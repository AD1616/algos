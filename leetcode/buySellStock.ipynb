{
 "cells": [
  {
   "attachments": {},
   "cell_type": "markdown",
   "metadata": {},
   "source": [
    "You are given an array prices where prices[i] is the price of a given stock on the ith day.\n",
    "\n",
    "You want to maximize your profit by choosing a single day to buy one stock and choosing a different day in the future to sell that stock.\n",
    "\n",
    "Return the maximum profit you can achieve from this transaction. If you cannot achieve any profit, return 0."
   ]
  },
  {
   "cell_type": "code",
   "execution_count": null,
   "metadata": {},
   "outputs": [],
   "source": [
    "def maxProfit(prices):\n",
    "    length = len(prices)\n",
    "\n",
    "    # buy index\n",
    "    left = 0\n",
    "    # sell index\n",
    "    right = 1\n",
    "\n",
    "    maxProfit = 0\n",
    "\n",
    "    # sell must come after buy, so we only have to check \n",
    "    # that the right index is less than the length\n",
    "    while(right < length):\n",
    "        current = prices[right] - prices[left]\n",
    "\n",
    "        # if there is profit, then update the max accordingly\n",
    "        if (prices[left] < prices[right]):\n",
    "            maxProfit = max(maxProfit, current)\n",
    "        # if right is smaller than left,\n",
    "        # then any number after right that generates profit with left as the buy index\n",
    "        # will generate a greater profit with right as the buy index\n",
    "        # so the new buy index should be right\n",
    "        else:\n",
    "            left = right\n",
    "        \n",
    "        # if left was less than right, then we can check if incrementing right will generate a greater profit\n",
    "        # or if it will force us to change the buy index\n",
    "        right += 1\n",
    "    \n",
    "    return maxProfit"
   ]
  }
 ],
 "metadata": {
  "language_info": {
   "name": "python"
  },
  "orig_nbformat": 4
 },
 "nbformat": 4,
 "nbformat_minor": 2
}
