{
 "cells": [
  {
   "attachments": {},
   "cell_type": "markdown",
   "metadata": {},
   "source": [
    "Given an integer array nums, return true if any value appears at least twice in the array, and return false if every element is distinct."
   ]
  },
  {
   "cell_type": "code",
   "execution_count": 1,
   "metadata": {},
   "outputs": [],
   "source": [
    "def containsDuplicate(nums):\n",
    "    # dictionary to contain numbers we've seen\n",
    "    d = {}\n",
    "    for i in range(len(nums)):\n",
    "        # if the number is a key in the dictionary, we've seen it so we can return True\n",
    "        if (nums[i] in d):\n",
    "            return True\n",
    "        # if not, this is the first time we've seen it.\n",
    "        # add to dictionary with key = number, value = index\n",
    "        else:\n",
    "            d[nums[i]] = i\n",
    "    # if we've made it through the whole list, we haven't seen any duplicates\n",
    "    return False"
   ]
  }
 ],
 "metadata": {
  "kernelspec": {
   "display_name": "Python 3",
   "language": "python",
   "name": "python3"
  },
  "language_info": {
   "codemirror_mode": {
    "name": "ipython",
    "version": 3
   },
   "file_extension": ".py",
   "mimetype": "text/x-python",
   "name": "python",
   "nbconvert_exporter": "python",
   "pygments_lexer": "ipython3",
   "version": "3.10.5"
  },
  "orig_nbformat": 4
 },
 "nbformat": 4,
 "nbformat_minor": 2
}
