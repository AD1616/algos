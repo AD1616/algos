{
 "cells": [
  {
   "attachments": {},
   "cell_type": "markdown",
   "metadata": {},
   "source": [
    "# First Bad Version"
   ]
  },
  {
   "attachments": {},
   "cell_type": "markdown",
   "metadata": {},
   "source": [
    "You are a product manager and currently leading a team to develop a new product. Unfortunately, the latest version of your product fails the quality check. Since each version is developed based on the previous version, all the versions after a bad version are also bad.\n",
    "\n",
    "Suppose you have n versions [1, 2, ..., n] and you want to find out the first bad one, which causes all the following ones to be bad.\n",
    "\n",
    "You are given an API bool isBadVersion(version) which returns whether version is bad. Implement a function to find the first bad version. You should minimize the number of calls to the API."
   ]
  },
  {
   "cell_type": "code",
   "execution_count": 1,
   "metadata": {},
   "outputs": [],
   "source": [
    "def isBadVersion():\n",
    "    pass\n",
    "\n",
    "def firstBadVersion(self, n: int) -> int:\n",
    "    left = 1\n",
    "    right = n\n",
    "\n",
    "    while (left <= right):\n",
    "        mid = (left + right) // 2\n",
    "\n",
    "        if (isBadVersion(mid)):\n",
    "            if (not (isBadVersion(mid - 1))):\n",
    "                return mid\n",
    "            else:\n",
    "                right = mid-1\n",
    "        else:\n",
    "            left = mid+1"
   ]
  },
  {
   "attachments": {},
   "cell_type": "markdown",
   "metadata": {},
   "source": [
    "This is simply an implementation of binary search. We start in the middle and check if that term is a bad version. If it is, then we check if the term before is also a bad version. If it is, then we set our upper bound to that term, since that is either the first bad version is before that term or that term is the first bad version.\n",
    "\n",
    "If the middle term was not a bad version, then we simply set our lower bound to be after that term, since we know that there couldn't have been any bad versions before it (since every version after a bad version is also a bad version).\n",
    "\n",
    "We break when we finally find the first bad version."
   ]
  },
  {
   "cell_type": "markdown",
   "metadata": {},
   "source": []
  }
 ],
 "metadata": {
  "kernelspec": {
   "display_name": "Python 3",
   "language": "python",
   "name": "python3"
  },
  "language_info": {
   "codemirror_mode": {
    "name": "ipython",
    "version": 3
   },
   "file_extension": ".py",
   "mimetype": "text/x-python",
   "name": "python",
   "nbconvert_exporter": "python",
   "pygments_lexer": "ipython3",
   "version": "3.10.5"
  },
  "orig_nbformat": 4,
  "vscode": {
   "interpreter": {
    "hash": "aee8b7b246df8f9039afb4144a1f6fd8d2ca17a180786b69acc140d282b71a49"
   }
  }
 },
 "nbformat": 4,
 "nbformat_minor": 2
}
